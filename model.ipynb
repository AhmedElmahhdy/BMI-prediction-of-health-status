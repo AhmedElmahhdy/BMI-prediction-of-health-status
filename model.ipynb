{
 "cells": [
  {
   "cell_type": "code",
   "execution_count": 2,
   "metadata": {},
   "outputs": [],
   "source": [
    "import numpy as np\n",
    "import pandas as pd\n",
    "from sklearn.model_selection import train_test_split, GridSearchCV\n",
    "from sklearn.ensemble import RandomForestClassifier\n",
    "from sklearn.preprocessing import StandardScaler\n",
    "from sklearn.metrics import confusion_matrix, accuracy_score, classification_report, f1_score, precision_score, recall_score\n",
    "import seaborn as sns\n",
    "import matplotlib.pyplot as plt\n",
    "\n"
   ]
  },
  {
   "cell_type": "code",
   "execution_count": 21,
   "metadata": {},
   "outputs": [
    {
     "data": {
      "text/html": [
       "<div>\n",
       "<style scoped>\n",
       "    .dataframe tbody tr th:only-of-type {\n",
       "        vertical-align: middle;\n",
       "    }\n",
       "\n",
       "    .dataframe tbody tr th {\n",
       "        vertical-align: top;\n",
       "    }\n",
       "\n",
       "    .dataframe thead th {\n",
       "        text-align: right;\n",
       "    }\n",
       "</style>\n",
       "<table border=\"1\" class=\"dataframe\">\n",
       "  <thead>\n",
       "    <tr style=\"text-align: right;\">\n",
       "      <th></th>\n",
       "      <th>Height</th>\n",
       "      <th>Weight</th>\n",
       "      <th>Index</th>\n",
       "      <th>Gender_Male</th>\n",
       "    </tr>\n",
       "  </thead>\n",
       "  <tbody>\n",
       "    <tr>\n",
       "      <th>0</th>\n",
       "      <td>174</td>\n",
       "      <td>96</td>\n",
       "      <td>Obesity</td>\n",
       "      <td>1</td>\n",
       "    </tr>\n",
       "    <tr>\n",
       "      <th>1</th>\n",
       "      <td>189</td>\n",
       "      <td>87</td>\n",
       "      <td>Normal</td>\n",
       "      <td>1</td>\n",
       "    </tr>\n",
       "    <tr>\n",
       "      <th>2</th>\n",
       "      <td>185</td>\n",
       "      <td>110</td>\n",
       "      <td>Obesity</td>\n",
       "      <td>0</td>\n",
       "    </tr>\n",
       "    <tr>\n",
       "      <th>3</th>\n",
       "      <td>195</td>\n",
       "      <td>104</td>\n",
       "      <td>Overweight</td>\n",
       "      <td>0</td>\n",
       "    </tr>\n",
       "    <tr>\n",
       "      <th>4</th>\n",
       "      <td>149</td>\n",
       "      <td>61</td>\n",
       "      <td>Overweight</td>\n",
       "      <td>1</td>\n",
       "    </tr>\n",
       "  </tbody>\n",
       "</table>\n",
       "</div>"
      ],
      "text/plain": [
       "   Height  Weight       Index  Gender_Male\n",
       "0     174      96     Obesity            1\n",
       "1     189      87      Normal            1\n",
       "2     185     110     Obesity            0\n",
       "3     195     104  Overweight            0\n",
       "4     149      61  Overweight            1"
      ]
     },
     "execution_count": 21,
     "metadata": {},
     "output_type": "execute_result"
    }
   ],
   "source": [
    "# Load and preprocess data\n",
    "df = pd.read_csv(r\"C:\\Users\\Ahmed\\Downloads\\500_Person_Gender_Height_Weight_Index.csv\")\n",
    "df_encoded = pd.get_dummies(df, columns=['Gender'], drop_first=True)\n",
    "\n",
    "# Update Index column with descriptive names\n",
    "def convert_status_to_description(row):\n",
    "    descriptions = {\n",
    "        0: 'Extremely Weak',\n",
    "        1: 'Weak',\n",
    "        2: 'Normal',\n",
    "        3: 'Overweight',\n",
    "        4: 'Obesity',\n",
    "        5: 'Extreme Obesity'\n",
    "    }\n",
    "    return descriptions.get(row['Index'], 'Unknown')\n",
    "\n",
    "df_encoded[\"Index\"] = df_encoded.apply(convert_status_to_description, axis=1)\n",
    "df_encoded.head()\n"
   ]
  },
  {
   "cell_type": "code",
   "execution_count": 22,
   "metadata": {},
   "outputs": [
    {
     "name": "stdout",
     "output_type": "stream",
     "text": [
      "No missing values detected.\n"
     ]
    }
   ],
   "source": [
    "# Check for missing values\n",
    "if df_encoded.isna().sum().any():\n",
    "    print(\"Missing values detected. Please handle them appropriately.\")\n",
    "else:\n",
    "    print(\"No missing values detected.\")\n",
    "\n",
    "# Split data into features and target\n",
    "X = df_encoded.drop(columns=[\"Index\"])\n",
    "y = df_encoded[\"Index\"]\n",
    "\n",
    "# Standardize features\n",
    "scaler = StandardScaler()\n",
    "X = scaler.fit_transform(X)\n",
    "\n"
   ]
  },
  {
   "cell_type": "code",
   "execution_count": 23,
   "metadata": {},
   "outputs": [],
   "source": [
    "# Train-test split\n",
    "X_train, X_test, y_train, y_test = train_test_split(X, y, test_size=0.2, random_state=0)\n",
    "\n",
    "# Model training and parameter tuning\n",
    "param_grid = {\n",
    "    'n_estimators': [100, 200, 300, 500],\n",
    "    'max_depth': [None, 10, 20, 30],\n",
    "    'criterion': ['gini', 'entropy']\n",
    "}\n",
    "\n"
   ]
  },
  {
   "cell_type": "code",
   "execution_count": 24,
   "metadata": {},
   "outputs": [],
   "source": [
    "grid_search = GridSearchCV(RandomForestClassifier(random_state=0), param_grid, cv=5, scoring='accuracy', n_jobs=-1)\n",
    "grid_search.fit(X_train, y_train)\n",
    "\n",
    "# Evaluate model with the best parameters\n",
    "best_rfc = grid_search.best_estimator_\n",
    "y_pred = best_rfc.predict(X_test)\n",
    "\n"
   ]
  },
  {
   "cell_type": "code",
   "execution_count": 25,
   "metadata": {},
   "outputs": [
    {
     "name": "stdout",
     "output_type": "stream",
     "text": [
      "Best Parameters: {'criterion': 'gini', 'max_depth': None, 'n_estimators': 500}\n",
      "Accuracy: 0.90\n",
      "F1 Score: 0.90\n",
      "Precision: 0.90\n",
      "Recall: 0.90\n",
      "\n",
      "Classification Report:\n",
      "                  precision    recall  f1-score   support\n",
      "\n",
      "Extreme Obesity       0.95      0.97      0.96        36\n",
      " Extremely Weak       1.00      0.67      0.80         3\n",
      "         Normal       0.82      0.90      0.86        10\n",
      "        Obesity       0.90      0.88      0.89        32\n",
      "     Overweight       0.86      0.80      0.83        15\n",
      "           Weak       0.80      1.00      0.89         4\n",
      "\n",
      "       accuracy                           0.90       100\n",
      "      macro avg       0.89      0.87      0.87       100\n",
      "   weighted avg       0.90      0.90      0.90       100\n",
      "\n",
      "\n",
      "Confusion Matrix:\n",
      " [[35  0  0  1  0  0]\n",
      " [ 0  2  0  0  0  1]\n",
      " [ 0  0  9  0  1  0]\n",
      " [ 2  0  1 28  1  0]\n",
      " [ 0  0  1  2 12  0]\n",
      " [ 0  0  0  0  0  4]]\n"
     ]
    }
   ],
   "source": [
    "# Model evaluation\n",
    "accuracy = accuracy_score(y_test, y_pred)\n",
    "f1 = f1_score(y_test, y_pred, average='weighted')\n",
    "precision = precision_score(y_test, y_pred, average='weighted')\n",
    "recall = recall_score(y_test, y_pred, average='weighted')\n",
    "\n",
    "print(f\"Best Parameters: {grid_search.best_params_}\")\n",
    "print(f\"Accuracy: {accuracy:.2f}\")\n",
    "print(f\"F1 Score: {f1:.2f}\")\n",
    "print(f\"Precision: {precision:.2f}\")\n",
    "print(f\"Recall: {recall:.2f}\")\n",
    "print(\"\\nClassification Report:\\n\", classification_report(y_test, y_pred))\n",
    "print(\"\\nConfusion Matrix:\\n\", confusion_matrix(y_test, y_pred))\n",
    "\n"
   ]
  },
  {
   "cell_type": "code",
   "execution_count": 26,
   "metadata": {},
   "outputs": [
    {
     "data": {
      "image/png": "[encoded data removed]",
      "text/plain": [
       "<Figure size 640x480 with 1 Axes>"
      ]
     },
     "metadata": {},
     "output_type": "display_data"
    }
   ],
   "source": [
    "# Plot accuracy with increasing trees\n",
    "trees_list = [100, 200, 300, 500, 700, 1000]\n",
    "acc_scores = []\n",
    "for n in trees_list:\n",
    "    rfc = RandomForestClassifier(n_estimators=n, random_state=0, criterion='entropy')\n",
    "    rfc.fit(X_train, y_train)\n",
    "    y_pred = rfc.predict(X_test)\n",
    "    acc_scores.append(accuracy_score(y_test, y_pred))\n",
    "\n",
    "# Visualization\n",
    "sns.pointplot(x=trees_list, y=acc_scores, color='#98568d')\n",
    "plt.title('Number of Trees vs Accuracy', fontsize=18)\n",
    "plt.xlabel('Number of Trees', fontsize=15)\n",
    "plt.ylabel('Accuracy Score', fontsize=15)\n",
    "plt.show()\n",
    "\n"
   ]
  },
  {
   "cell_type": "code",
   "execution_count": 9,
   "metadata": {},
   "outputs": [
    {
     "data": {
      "text/plain": [
       "['random_forest_model.pkl']"
      ]
     },
     "execution_count": 9,
     "metadata": {},
     "output_type": "execute_result"
    }
   ],
   "source": [
    "\n",
    "\n",
    "import joblib\n",
    "\n",
    "# Save the model to a file\n",
    "joblib.dump(best_rfc, 'random_forest_model.pkl')\n"
   ]
  },
  {
   "cell_type": "code",
   "execution_count": 11,
   "metadata": {},
   "outputs": [],
   "source": [
    "# Load the trained model and scaler\n",
    "model = joblib.load('random_forest_model.pkl')\n"
   ]
  },
  {
   "cell_type": "code",
   "execution_count": 29,
   "metadata": {},
   "outputs": [
    {
     "name": "stdout",
     "output_type": "stream",
     "text": [
      "Predicted Health Index Category: Overweight\n"
     ]
    }
   ],
   "source": [
    "## Test Model\n",
    "\n",
    "# Input your test values\n",
    "height = float(input(\"Enter your height in cm: \"))\n",
    "weight = float(input(\"Enter your weight in kg: \"))\n",
    "\n",
    "gender = input(\"Enter your gender (Male/Female): \")\n",
    "\n",
    "# Encode gender based on training data structure\n",
    "gender_male = 1 if gender.lower() == 'male' else 0\n",
    "\n",
    "# Create the input array in the same format as the training data\n",
    "user_input = pd.DataFrame([[height, weight,  gender_male]],\n",
    "                          columns=['Height', 'Weight',  'Gender_Male'])\n",
    "\n",
    "# Scale the entire row to match the scaler's expectations\n",
    "user_input_scaled = scaler.transform(user_input)\n",
    "\n",
    "# Predict using the model\n",
    "prediction = model.predict(user_input_scaled)\n",
    "\n",
    "# Print the prediction result\n",
    "print(\"Predicted Health Index Category:\", prediction[0])\n",
    "\n",
    "\n"
   ]
  },
  {
   "cell_type": "code",
   "execution_count": null,
   "metadata": {},
   "outputs": [],
   "source": []
  },
  {
   "cell_type": "code",
   "execution_count": null,
   "metadata": {},
   "outputs": [],
   "source": []
  }
 ],
 "metadata": {
  "kernelspec": {
   "display_name": "base",
   "language": "python",
   "name": "python3"
  },
  "language_info": {
   "codemirror_mode": {
    "name": "ipython",
    "version": 3
   },
   "file_extension": ".py",
   "mimetype": "text/x-python",
   "name": "python",
   "nbconvert_exporter": "python",
   "pygments_lexer": "ipython3",
   "version": "3.11.4"
  }
 },
 "nbformat": 4,
 "nbformat_minor": 2
}
